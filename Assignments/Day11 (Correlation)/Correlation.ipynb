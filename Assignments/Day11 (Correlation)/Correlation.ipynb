{
 "cells": [
  {
   "cell_type": "code",
   "execution_count": 1,
   "metadata": {},
   "outputs": [],
   "source": [
    "import pandas as pd\n",
    "import numpy as np\n",
    "import matplotlib.pyplot as plt\n",
    "import seaborn as sns"
   ]
  },
  {
   "cell_type": "code",
   "execution_count": 2,
   "metadata": {},
   "outputs": [],
   "source": [
    "df = pd.read_csv(\"general_data.csv\")"
   ]
  },
  {
   "cell_type": "code",
   "execution_count": 3,
   "metadata": {},
   "outputs": [
    {
     "data": {
      "text/html": [
       "<div>\n",
       "<style scoped>\n",
       "    .dataframe tbody tr th:only-of-type {\n",
       "        vertical-align: middle;\n",
       "    }\n",
       "\n",
       "    .dataframe tbody tr th {\n",
       "        vertical-align: top;\n",
       "    }\n",
       "\n",
       "    .dataframe thead th {\n",
       "        text-align: right;\n",
       "    }\n",
       "</style>\n",
       "<table border=\"1\" class=\"dataframe\">\n",
       "  <thead>\n",
       "    <tr style=\"text-align: right;\">\n",
       "      <th></th>\n",
       "      <th>Age</th>\n",
       "      <th>Attrition</th>\n",
       "      <th>BusinessTravel</th>\n",
       "      <th>Department</th>\n",
       "      <th>DistanceFromHome</th>\n",
       "      <th>Education</th>\n",
       "      <th>EducationField</th>\n",
       "      <th>EmployeeCount</th>\n",
       "      <th>EmployeeID</th>\n",
       "      <th>Gender</th>\n",
       "      <th>...</th>\n",
       "      <th>NumCompaniesWorked</th>\n",
       "      <th>Over18</th>\n",
       "      <th>PercentSalaryHike</th>\n",
       "      <th>StandardHours</th>\n",
       "      <th>StockOptionLevel</th>\n",
       "      <th>TotalWorkingYears</th>\n",
       "      <th>TrainingTimesLastYear</th>\n",
       "      <th>YearsAtCompany</th>\n",
       "      <th>YearsSinceLastPromotion</th>\n",
       "      <th>YearsWithCurrManager</th>\n",
       "    </tr>\n",
       "  </thead>\n",
       "  <tbody>\n",
       "    <tr>\n",
       "      <th>0</th>\n",
       "      <td>51</td>\n",
       "      <td>No</td>\n",
       "      <td>Travel_Rarely</td>\n",
       "      <td>Sales</td>\n",
       "      <td>6</td>\n",
       "      <td>2</td>\n",
       "      <td>Life Sciences</td>\n",
       "      <td>1</td>\n",
       "      <td>1</td>\n",
       "      <td>Female</td>\n",
       "      <td>...</td>\n",
       "      <td>1.0</td>\n",
       "      <td>Y</td>\n",
       "      <td>11</td>\n",
       "      <td>8</td>\n",
       "      <td>0</td>\n",
       "      <td>1.0</td>\n",
       "      <td>6</td>\n",
       "      <td>1</td>\n",
       "      <td>0</td>\n",
       "      <td>0</td>\n",
       "    </tr>\n",
       "    <tr>\n",
       "      <th>1</th>\n",
       "      <td>31</td>\n",
       "      <td>Yes</td>\n",
       "      <td>Travel_Frequently</td>\n",
       "      <td>Research &amp; Development</td>\n",
       "      <td>10</td>\n",
       "      <td>1</td>\n",
       "      <td>Life Sciences</td>\n",
       "      <td>1</td>\n",
       "      <td>2</td>\n",
       "      <td>Female</td>\n",
       "      <td>...</td>\n",
       "      <td>0.0</td>\n",
       "      <td>Y</td>\n",
       "      <td>23</td>\n",
       "      <td>8</td>\n",
       "      <td>1</td>\n",
       "      <td>6.0</td>\n",
       "      <td>3</td>\n",
       "      <td>5</td>\n",
       "      <td>1</td>\n",
       "      <td>4</td>\n",
       "    </tr>\n",
       "    <tr>\n",
       "      <th>2</th>\n",
       "      <td>32</td>\n",
       "      <td>No</td>\n",
       "      <td>Travel_Frequently</td>\n",
       "      <td>Research &amp; Development</td>\n",
       "      <td>17</td>\n",
       "      <td>4</td>\n",
       "      <td>Other</td>\n",
       "      <td>1</td>\n",
       "      <td>3</td>\n",
       "      <td>Male</td>\n",
       "      <td>...</td>\n",
       "      <td>1.0</td>\n",
       "      <td>Y</td>\n",
       "      <td>15</td>\n",
       "      <td>8</td>\n",
       "      <td>3</td>\n",
       "      <td>5.0</td>\n",
       "      <td>2</td>\n",
       "      <td>5</td>\n",
       "      <td>0</td>\n",
       "      <td>3</td>\n",
       "    </tr>\n",
       "    <tr>\n",
       "      <th>3</th>\n",
       "      <td>38</td>\n",
       "      <td>No</td>\n",
       "      <td>Non-Travel</td>\n",
       "      <td>Research &amp; Development</td>\n",
       "      <td>2</td>\n",
       "      <td>5</td>\n",
       "      <td>Life Sciences</td>\n",
       "      <td>1</td>\n",
       "      <td>4</td>\n",
       "      <td>Male</td>\n",
       "      <td>...</td>\n",
       "      <td>3.0</td>\n",
       "      <td>Y</td>\n",
       "      <td>11</td>\n",
       "      <td>8</td>\n",
       "      <td>3</td>\n",
       "      <td>13.0</td>\n",
       "      <td>5</td>\n",
       "      <td>8</td>\n",
       "      <td>7</td>\n",
       "      <td>5</td>\n",
       "    </tr>\n",
       "    <tr>\n",
       "      <th>4</th>\n",
       "      <td>32</td>\n",
       "      <td>No</td>\n",
       "      <td>Travel_Rarely</td>\n",
       "      <td>Research &amp; Development</td>\n",
       "      <td>10</td>\n",
       "      <td>1</td>\n",
       "      <td>Medical</td>\n",
       "      <td>1</td>\n",
       "      <td>5</td>\n",
       "      <td>Male</td>\n",
       "      <td>...</td>\n",
       "      <td>4.0</td>\n",
       "      <td>Y</td>\n",
       "      <td>12</td>\n",
       "      <td>8</td>\n",
       "      <td>2</td>\n",
       "      <td>9.0</td>\n",
       "      <td>2</td>\n",
       "      <td>6</td>\n",
       "      <td>0</td>\n",
       "      <td>4</td>\n",
       "    </tr>\n",
       "  </tbody>\n",
       "</table>\n",
       "<p>5 rows × 24 columns</p>\n",
       "</div>"
      ],
      "text/plain": [
       "   Age Attrition     BusinessTravel              Department  DistanceFromHome  \\\n",
       "0   51        No      Travel_Rarely                   Sales                 6   \n",
       "1   31       Yes  Travel_Frequently  Research & Development                10   \n",
       "2   32        No  Travel_Frequently  Research & Development                17   \n",
       "3   38        No         Non-Travel  Research & Development                 2   \n",
       "4   32        No      Travel_Rarely  Research & Development                10   \n",
       "\n",
       "   Education EducationField  EmployeeCount  EmployeeID  Gender  ...  \\\n",
       "0          2  Life Sciences              1           1  Female  ...   \n",
       "1          1  Life Sciences              1           2  Female  ...   \n",
       "2          4          Other              1           3    Male  ...   \n",
       "3          5  Life Sciences              1           4    Male  ...   \n",
       "4          1        Medical              1           5    Male  ...   \n",
       "\n",
       "   NumCompaniesWorked Over18 PercentSalaryHike  StandardHours  \\\n",
       "0                 1.0      Y                11              8   \n",
       "1                 0.0      Y                23              8   \n",
       "2                 1.0      Y                15              8   \n",
       "3                 3.0      Y                11              8   \n",
       "4                 4.0      Y                12              8   \n",
       "\n",
       "   StockOptionLevel TotalWorkingYears  TrainingTimesLastYear  YearsAtCompany  \\\n",
       "0                 0               1.0                      6               1   \n",
       "1                 1               6.0                      3               5   \n",
       "2                 3               5.0                      2               5   \n",
       "3                 3              13.0                      5               8   \n",
       "4                 2               9.0                      2               6   \n",
       "\n",
       "   YearsSinceLastPromotion  YearsWithCurrManager  \n",
       "0                        0                     0  \n",
       "1                        1                     4  \n",
       "2                        0                     3  \n",
       "3                        7                     5  \n",
       "4                        0                     4  \n",
       "\n",
       "[5 rows x 24 columns]"
      ]
     },
     "execution_count": 3,
     "metadata": {},
     "output_type": "execute_result"
    }
   ],
   "source": [
    "df.head()"
   ]
  },
  {
   "cell_type": "code",
   "execution_count": 4,
   "metadata": {},
   "outputs": [
    {
     "data": {
      "text/plain": [
       "Age                         0\n",
       "Attrition                   0\n",
       "BusinessTravel              0\n",
       "Department                  0\n",
       "DistanceFromHome            0\n",
       "Education                   0\n",
       "EducationField              0\n",
       "EmployeeCount               0\n",
       "EmployeeID                  0\n",
       "Gender                      0\n",
       "JobLevel                    0\n",
       "JobRole                     0\n",
       "MaritalStatus               0\n",
       "MonthlyIncome               0\n",
       "NumCompaniesWorked         19\n",
       "Over18                      0\n",
       "PercentSalaryHike           0\n",
       "StandardHours               0\n",
       "StockOptionLevel            0\n",
       "TotalWorkingYears           9\n",
       "TrainingTimesLastYear       0\n",
       "YearsAtCompany              0\n",
       "YearsSinceLastPromotion     0\n",
       "YearsWithCurrManager        0\n",
       "dtype: int64"
      ]
     },
     "execution_count": 4,
     "metadata": {},
     "output_type": "execute_result"
    }
   ],
   "source": [
    "df.isnull().sum()"
   ]
  },
  {
   "cell_type": "code",
   "execution_count": 5,
   "metadata": {},
   "outputs": [],
   "source": [
    "# NumCompaniesWorked have 19 null values\n",
    "df.NumCompaniesWorked = df.NumCompaniesWorked.fillna(df.NumCompaniesWorked.mean())\n",
    "df.TotalWorkingYears = df.TotalWorkingYears.fillna(df.TotalWorkingYears.mean())"
   ]
  },
  {
   "cell_type": "code",
   "execution_count": 6,
   "metadata": {},
   "outputs": [
    {
     "data": {
      "text/plain": [
       "Age                        0\n",
       "Attrition                  0\n",
       "BusinessTravel             0\n",
       "Department                 0\n",
       "DistanceFromHome           0\n",
       "Education                  0\n",
       "EducationField             0\n",
       "EmployeeCount              0\n",
       "EmployeeID                 0\n",
       "Gender                     0\n",
       "JobLevel                   0\n",
       "JobRole                    0\n",
       "MaritalStatus              0\n",
       "MonthlyIncome              0\n",
       "NumCompaniesWorked         0\n",
       "Over18                     0\n",
       "PercentSalaryHike          0\n",
       "StandardHours              0\n",
       "StockOptionLevel           0\n",
       "TotalWorkingYears          0\n",
       "TrainingTimesLastYear      0\n",
       "YearsAtCompany             0\n",
       "YearsSinceLastPromotion    0\n",
       "YearsWithCurrManager       0\n",
       "dtype: int64"
      ]
     },
     "execution_count": 6,
     "metadata": {},
     "output_type": "execute_result"
    }
   ],
   "source": [
    "df.isnull().sum()"
   ]
  },
  {
   "cell_type": "code",
   "execution_count": 7,
   "metadata": {},
   "outputs": [
    {
     "data": {
      "text/html": [
       "<div>\n",
       "<style scoped>\n",
       "    .dataframe tbody tr th:only-of-type {\n",
       "        vertical-align: middle;\n",
       "    }\n",
       "\n",
       "    .dataframe tbody tr th {\n",
       "        vertical-align: top;\n",
       "    }\n",
       "\n",
       "    .dataframe thead th {\n",
       "        text-align: right;\n",
       "    }\n",
       "</style>\n",
       "<table border=\"1\" class=\"dataframe\">\n",
       "  <thead>\n",
       "    <tr style=\"text-align: right;\">\n",
       "      <th></th>\n",
       "      <th>Age</th>\n",
       "      <th>DistanceFromHome</th>\n",
       "      <th>Education</th>\n",
       "      <th>EmployeeCount</th>\n",
       "      <th>EmployeeID</th>\n",
       "      <th>JobLevel</th>\n",
       "      <th>MonthlyIncome</th>\n",
       "      <th>NumCompaniesWorked</th>\n",
       "      <th>PercentSalaryHike</th>\n",
       "      <th>StandardHours</th>\n",
       "      <th>StockOptionLevel</th>\n",
       "      <th>TotalWorkingYears</th>\n",
       "      <th>TrainingTimesLastYear</th>\n",
       "      <th>YearsAtCompany</th>\n",
       "      <th>YearsSinceLastPromotion</th>\n",
       "      <th>YearsWithCurrManager</th>\n",
       "    </tr>\n",
       "  </thead>\n",
       "  <tbody>\n",
       "    <tr>\n",
       "      <th>Age</th>\n",
       "      <td>1.000000</td>\n",
       "      <td>0.006963</td>\n",
       "      <td>-0.035706</td>\n",
       "      <td>NaN</td>\n",
       "      <td>0.008649</td>\n",
       "      <td>-0.002884</td>\n",
       "      <td>-0.044314</td>\n",
       "      <td>0.298528</td>\n",
       "      <td>-0.033137</td>\n",
       "      <td>NaN</td>\n",
       "      <td>-0.031753</td>\n",
       "      <td>0.680419</td>\n",
       "      <td>-0.027308</td>\n",
       "      <td>0.311309</td>\n",
       "      <td>0.216513</td>\n",
       "      <td>0.202089</td>\n",
       "    </tr>\n",
       "    <tr>\n",
       "      <th>DistanceFromHome</th>\n",
       "      <td>0.006963</td>\n",
       "      <td>1.000000</td>\n",
       "      <td>-0.008638</td>\n",
       "      <td>NaN</td>\n",
       "      <td>-0.001097</td>\n",
       "      <td>-0.037329</td>\n",
       "      <td>-0.021607</td>\n",
       "      <td>-0.013818</td>\n",
       "      <td>0.038125</td>\n",
       "      <td>NaN</td>\n",
       "      <td>0.011169</td>\n",
       "      <td>0.009361</td>\n",
       "      <td>-0.009001</td>\n",
       "      <td>0.031684</td>\n",
       "      <td>0.002290</td>\n",
       "      <td>0.021584</td>\n",
       "    </tr>\n",
       "    <tr>\n",
       "      <th>Education</th>\n",
       "      <td>-0.035706</td>\n",
       "      <td>-0.008638</td>\n",
       "      <td>1.000000</td>\n",
       "      <td>NaN</td>\n",
       "      <td>-0.009680</td>\n",
       "      <td>0.045746</td>\n",
       "      <td>0.006410</td>\n",
       "      <td>-0.016219</td>\n",
       "      <td>-0.040531</td>\n",
       "      <td>NaN</td>\n",
       "      <td>0.001261</td>\n",
       "      <td>-0.010712</td>\n",
       "      <td>0.010472</td>\n",
       "      <td>0.006080</td>\n",
       "      <td>0.022490</td>\n",
       "      <td>0.005358</td>\n",
       "    </tr>\n",
       "    <tr>\n",
       "      <th>EmployeeCount</th>\n",
       "      <td>NaN</td>\n",
       "      <td>NaN</td>\n",
       "      <td>NaN</td>\n",
       "      <td>NaN</td>\n",
       "      <td>NaN</td>\n",
       "      <td>NaN</td>\n",
       "      <td>NaN</td>\n",
       "      <td>NaN</td>\n",
       "      <td>NaN</td>\n",
       "      <td>NaN</td>\n",
       "      <td>NaN</td>\n",
       "      <td>NaN</td>\n",
       "      <td>NaN</td>\n",
       "      <td>NaN</td>\n",
       "      <td>NaN</td>\n",
       "      <td>NaN</td>\n",
       "    </tr>\n",
       "    <tr>\n",
       "      <th>EmployeeID</th>\n",
       "      <td>0.008649</td>\n",
       "      <td>-0.001097</td>\n",
       "      <td>-0.009680</td>\n",
       "      <td>NaN</td>\n",
       "      <td>1.000000</td>\n",
       "      <td>-0.003303</td>\n",
       "      <td>0.007338</td>\n",
       "      <td>-0.001114</td>\n",
       "      <td>-0.004456</td>\n",
       "      <td>NaN</td>\n",
       "      <td>-0.014254</td>\n",
       "      <td>-0.001061</td>\n",
       "      <td>-0.010191</td>\n",
       "      <td>0.004086</td>\n",
       "      <td>0.000256</td>\n",
       "      <td>0.008579</td>\n",
       "    </tr>\n",
       "    <tr>\n",
       "      <th>JobLevel</th>\n",
       "      <td>-0.002884</td>\n",
       "      <td>-0.037329</td>\n",
       "      <td>0.045746</td>\n",
       "      <td>NaN</td>\n",
       "      <td>-0.003303</td>\n",
       "      <td>1.000000</td>\n",
       "      <td>0.047316</td>\n",
       "      <td>-0.009844</td>\n",
       "      <td>0.010973</td>\n",
       "      <td>NaN</td>\n",
       "      <td>0.000993</td>\n",
       "      <td>-0.036934</td>\n",
       "      <td>-0.032500</td>\n",
       "      <td>-0.064219</td>\n",
       "      <td>-0.060811</td>\n",
       "      <td>-0.055251</td>\n",
       "    </tr>\n",
       "    <tr>\n",
       "      <th>MonthlyIncome</th>\n",
       "      <td>-0.044314</td>\n",
       "      <td>-0.021607</td>\n",
       "      <td>0.006410</td>\n",
       "      <td>NaN</td>\n",
       "      <td>0.007338</td>\n",
       "      <td>0.047316</td>\n",
       "      <td>1.000000</td>\n",
       "      <td>-0.020710</td>\n",
       "      <td>0.004325</td>\n",
       "      <td>NaN</td>\n",
       "      <td>0.026930</td>\n",
       "      <td>-0.033758</td>\n",
       "      <td>0.050112</td>\n",
       "      <td>0.000995</td>\n",
       "      <td>0.065219</td>\n",
       "      <td>0.024304</td>\n",
       "    </tr>\n",
       "    <tr>\n",
       "      <th>NumCompaniesWorked</th>\n",
       "      <td>0.298528</td>\n",
       "      <td>-0.013818</td>\n",
       "      <td>-0.016219</td>\n",
       "      <td>NaN</td>\n",
       "      <td>-0.001114</td>\n",
       "      <td>-0.009844</td>\n",
       "      <td>-0.020710</td>\n",
       "      <td>1.000000</td>\n",
       "      <td>0.030825</td>\n",
       "      <td>NaN</td>\n",
       "      <td>0.017130</td>\n",
       "      <td>0.238052</td>\n",
       "      <td>-0.032239</td>\n",
       "      <td>-0.117820</td>\n",
       "      <td>-0.036618</td>\n",
       "      <td>-0.109480</td>\n",
       "    </tr>\n",
       "    <tr>\n",
       "      <th>PercentSalaryHike</th>\n",
       "      <td>-0.033137</td>\n",
       "      <td>0.038125</td>\n",
       "      <td>-0.040531</td>\n",
       "      <td>NaN</td>\n",
       "      <td>-0.004456</td>\n",
       "      <td>0.010973</td>\n",
       "      <td>0.004325</td>\n",
       "      <td>0.030825</td>\n",
       "      <td>1.000000</td>\n",
       "      <td>NaN</td>\n",
       "      <td>0.012548</td>\n",
       "      <td>-0.018717</td>\n",
       "      <td>-0.037392</td>\n",
       "      <td>-0.029707</td>\n",
       "      <td>-0.029542</td>\n",
       "      <td>-0.040864</td>\n",
       "    </tr>\n",
       "    <tr>\n",
       "      <th>StandardHours</th>\n",
       "      <td>NaN</td>\n",
       "      <td>NaN</td>\n",
       "      <td>NaN</td>\n",
       "      <td>NaN</td>\n",
       "      <td>NaN</td>\n",
       "      <td>NaN</td>\n",
       "      <td>NaN</td>\n",
       "      <td>NaN</td>\n",
       "      <td>NaN</td>\n",
       "      <td>NaN</td>\n",
       "      <td>NaN</td>\n",
       "      <td>NaN</td>\n",
       "      <td>NaN</td>\n",
       "      <td>NaN</td>\n",
       "      <td>NaN</td>\n",
       "      <td>NaN</td>\n",
       "    </tr>\n",
       "    <tr>\n",
       "      <th>StockOptionLevel</th>\n",
       "      <td>-0.031753</td>\n",
       "      <td>0.011169</td>\n",
       "      <td>0.001261</td>\n",
       "      <td>NaN</td>\n",
       "      <td>-0.014254</td>\n",
       "      <td>0.000993</td>\n",
       "      <td>0.026930</td>\n",
       "      <td>0.017130</td>\n",
       "      <td>0.012548</td>\n",
       "      <td>NaN</td>\n",
       "      <td>1.000000</td>\n",
       "      <td>0.002693</td>\n",
       "      <td>-0.069902</td>\n",
       "      <td>0.007886</td>\n",
       "      <td>0.019063</td>\n",
       "      <td>0.017757</td>\n",
       "    </tr>\n",
       "    <tr>\n",
       "      <th>TotalWorkingYears</th>\n",
       "      <td>0.680419</td>\n",
       "      <td>0.009361</td>\n",
       "      <td>-0.010712</td>\n",
       "      <td>NaN</td>\n",
       "      <td>-0.001061</td>\n",
       "      <td>-0.036934</td>\n",
       "      <td>-0.033758</td>\n",
       "      <td>0.238052</td>\n",
       "      <td>-0.018717</td>\n",
       "      <td>NaN</td>\n",
       "      <td>0.002693</td>\n",
       "      <td>1.000000</td>\n",
       "      <td>-0.040705</td>\n",
       "      <td>0.626876</td>\n",
       "      <td>0.403995</td>\n",
       "      <td>0.458425</td>\n",
       "    </tr>\n",
       "    <tr>\n",
       "      <th>TrainingTimesLastYear</th>\n",
       "      <td>-0.027308</td>\n",
       "      <td>-0.009001</td>\n",
       "      <td>0.010472</td>\n",
       "      <td>NaN</td>\n",
       "      <td>-0.010191</td>\n",
       "      <td>-0.032500</td>\n",
       "      <td>0.050112</td>\n",
       "      <td>-0.032239</td>\n",
       "      <td>-0.037392</td>\n",
       "      <td>NaN</td>\n",
       "      <td>-0.069902</td>\n",
       "      <td>-0.040705</td>\n",
       "      <td>1.000000</td>\n",
       "      <td>-0.007894</td>\n",
       "      <td>0.016121</td>\n",
       "      <td>-0.013270</td>\n",
       "    </tr>\n",
       "    <tr>\n",
       "      <th>YearsAtCompany</th>\n",
       "      <td>0.311309</td>\n",
       "      <td>0.031684</td>\n",
       "      <td>0.006080</td>\n",
       "      <td>NaN</td>\n",
       "      <td>0.004086</td>\n",
       "      <td>-0.064219</td>\n",
       "      <td>0.000995</td>\n",
       "      <td>-0.117820</td>\n",
       "      <td>-0.029707</td>\n",
       "      <td>NaN</td>\n",
       "      <td>0.007886</td>\n",
       "      <td>0.626876</td>\n",
       "      <td>-0.007894</td>\n",
       "      <td>1.000000</td>\n",
       "      <td>0.618409</td>\n",
       "      <td>0.769212</td>\n",
       "    </tr>\n",
       "    <tr>\n",
       "      <th>YearsSinceLastPromotion</th>\n",
       "      <td>0.216513</td>\n",
       "      <td>0.002290</td>\n",
       "      <td>0.022490</td>\n",
       "      <td>NaN</td>\n",
       "      <td>0.000256</td>\n",
       "      <td>-0.060811</td>\n",
       "      <td>0.065219</td>\n",
       "      <td>-0.036618</td>\n",
       "      <td>-0.029542</td>\n",
       "      <td>NaN</td>\n",
       "      <td>0.019063</td>\n",
       "      <td>0.403995</td>\n",
       "      <td>0.016121</td>\n",
       "      <td>0.618409</td>\n",
       "      <td>1.000000</td>\n",
       "      <td>0.510224</td>\n",
       "    </tr>\n",
       "    <tr>\n",
       "      <th>YearsWithCurrManager</th>\n",
       "      <td>0.202089</td>\n",
       "      <td>0.021584</td>\n",
       "      <td>0.005358</td>\n",
       "      <td>NaN</td>\n",
       "      <td>0.008579</td>\n",
       "      <td>-0.055251</td>\n",
       "      <td>0.024304</td>\n",
       "      <td>-0.109480</td>\n",
       "      <td>-0.040864</td>\n",
       "      <td>NaN</td>\n",
       "      <td>0.017757</td>\n",
       "      <td>0.458425</td>\n",
       "      <td>-0.013270</td>\n",
       "      <td>0.769212</td>\n",
       "      <td>0.510224</td>\n",
       "      <td>1.000000</td>\n",
       "    </tr>\n",
       "  </tbody>\n",
       "</table>\n",
       "</div>"
      ],
      "text/plain": [
       "                              Age  DistanceFromHome  Education  EmployeeCount  \\\n",
       "Age                      1.000000          0.006963  -0.035706            NaN   \n",
       "DistanceFromHome         0.006963          1.000000  -0.008638            NaN   \n",
       "Education               -0.035706         -0.008638   1.000000            NaN   \n",
       "EmployeeCount                 NaN               NaN        NaN            NaN   \n",
       "EmployeeID               0.008649         -0.001097  -0.009680            NaN   \n",
       "JobLevel                -0.002884         -0.037329   0.045746            NaN   \n",
       "MonthlyIncome           -0.044314         -0.021607   0.006410            NaN   \n",
       "NumCompaniesWorked       0.298528         -0.013818  -0.016219            NaN   \n",
       "PercentSalaryHike       -0.033137          0.038125  -0.040531            NaN   \n",
       "StandardHours                 NaN               NaN        NaN            NaN   \n",
       "StockOptionLevel        -0.031753          0.011169   0.001261            NaN   \n",
       "TotalWorkingYears        0.680419          0.009361  -0.010712            NaN   \n",
       "TrainingTimesLastYear   -0.027308         -0.009001   0.010472            NaN   \n",
       "YearsAtCompany           0.311309          0.031684   0.006080            NaN   \n",
       "YearsSinceLastPromotion  0.216513          0.002290   0.022490            NaN   \n",
       "YearsWithCurrManager     0.202089          0.021584   0.005358            NaN   \n",
       "\n",
       "                         EmployeeID  JobLevel  MonthlyIncome  \\\n",
       "Age                        0.008649 -0.002884      -0.044314   \n",
       "DistanceFromHome          -0.001097 -0.037329      -0.021607   \n",
       "Education                 -0.009680  0.045746       0.006410   \n",
       "EmployeeCount                   NaN       NaN            NaN   \n",
       "EmployeeID                 1.000000 -0.003303       0.007338   \n",
       "JobLevel                  -0.003303  1.000000       0.047316   \n",
       "MonthlyIncome              0.007338  0.047316       1.000000   \n",
       "NumCompaniesWorked        -0.001114 -0.009844      -0.020710   \n",
       "PercentSalaryHike         -0.004456  0.010973       0.004325   \n",
       "StandardHours                   NaN       NaN            NaN   \n",
       "StockOptionLevel          -0.014254  0.000993       0.026930   \n",
       "TotalWorkingYears         -0.001061 -0.036934      -0.033758   \n",
       "TrainingTimesLastYear     -0.010191 -0.032500       0.050112   \n",
       "YearsAtCompany             0.004086 -0.064219       0.000995   \n",
       "YearsSinceLastPromotion    0.000256 -0.060811       0.065219   \n",
       "YearsWithCurrManager       0.008579 -0.055251       0.024304   \n",
       "\n",
       "                         NumCompaniesWorked  PercentSalaryHike  StandardHours  \\\n",
       "Age                                0.298528          -0.033137            NaN   \n",
       "DistanceFromHome                  -0.013818           0.038125            NaN   \n",
       "Education                         -0.016219          -0.040531            NaN   \n",
       "EmployeeCount                           NaN                NaN            NaN   \n",
       "EmployeeID                        -0.001114          -0.004456            NaN   \n",
       "JobLevel                          -0.009844           0.010973            NaN   \n",
       "MonthlyIncome                     -0.020710           0.004325            NaN   \n",
       "NumCompaniesWorked                 1.000000           0.030825            NaN   \n",
       "PercentSalaryHike                  0.030825           1.000000            NaN   \n",
       "StandardHours                           NaN                NaN            NaN   \n",
       "StockOptionLevel                   0.017130           0.012548            NaN   \n",
       "TotalWorkingYears                  0.238052          -0.018717            NaN   \n",
       "TrainingTimesLastYear             -0.032239          -0.037392            NaN   \n",
       "YearsAtCompany                    -0.117820          -0.029707            NaN   \n",
       "YearsSinceLastPromotion           -0.036618          -0.029542            NaN   \n",
       "YearsWithCurrManager              -0.109480          -0.040864            NaN   \n",
       "\n",
       "                         StockOptionLevel  TotalWorkingYears  \\\n",
       "Age                             -0.031753           0.680419   \n",
       "DistanceFromHome                 0.011169           0.009361   \n",
       "Education                        0.001261          -0.010712   \n",
       "EmployeeCount                         NaN                NaN   \n",
       "EmployeeID                      -0.014254          -0.001061   \n",
       "JobLevel                         0.000993          -0.036934   \n",
       "MonthlyIncome                    0.026930          -0.033758   \n",
       "NumCompaniesWorked               0.017130           0.238052   \n",
       "PercentSalaryHike                0.012548          -0.018717   \n",
       "StandardHours                         NaN                NaN   \n",
       "StockOptionLevel                 1.000000           0.002693   \n",
       "TotalWorkingYears                0.002693           1.000000   \n",
       "TrainingTimesLastYear           -0.069902          -0.040705   \n",
       "YearsAtCompany                   0.007886           0.626876   \n",
       "YearsSinceLastPromotion          0.019063           0.403995   \n",
       "YearsWithCurrManager             0.017757           0.458425   \n",
       "\n",
       "                         TrainingTimesLastYear  YearsAtCompany  \\\n",
       "Age                                  -0.027308        0.311309   \n",
       "DistanceFromHome                     -0.009001        0.031684   \n",
       "Education                             0.010472        0.006080   \n",
       "EmployeeCount                              NaN             NaN   \n",
       "EmployeeID                           -0.010191        0.004086   \n",
       "JobLevel                             -0.032500       -0.064219   \n",
       "MonthlyIncome                         0.050112        0.000995   \n",
       "NumCompaniesWorked                   -0.032239       -0.117820   \n",
       "PercentSalaryHike                    -0.037392       -0.029707   \n",
       "StandardHours                              NaN             NaN   \n",
       "StockOptionLevel                     -0.069902        0.007886   \n",
       "TotalWorkingYears                    -0.040705        0.626876   \n",
       "TrainingTimesLastYear                 1.000000       -0.007894   \n",
       "YearsAtCompany                       -0.007894        1.000000   \n",
       "YearsSinceLastPromotion               0.016121        0.618409   \n",
       "YearsWithCurrManager                 -0.013270        0.769212   \n",
       "\n",
       "                         YearsSinceLastPromotion  YearsWithCurrManager  \n",
       "Age                                     0.216513              0.202089  \n",
       "DistanceFromHome                        0.002290              0.021584  \n",
       "Education                               0.022490              0.005358  \n",
       "EmployeeCount                                NaN                   NaN  \n",
       "EmployeeID                              0.000256              0.008579  \n",
       "JobLevel                               -0.060811             -0.055251  \n",
       "MonthlyIncome                           0.065219              0.024304  \n",
       "NumCompaniesWorked                     -0.036618             -0.109480  \n",
       "PercentSalaryHike                      -0.029542             -0.040864  \n",
       "StandardHours                                NaN                   NaN  \n",
       "StockOptionLevel                        0.019063              0.017757  \n",
       "TotalWorkingYears                       0.403995              0.458425  \n",
       "TrainingTimesLastYear                   0.016121             -0.013270  \n",
       "YearsAtCompany                          0.618409              0.769212  \n",
       "YearsSinceLastPromotion                 1.000000              0.510224  \n",
       "YearsWithCurrManager                    0.510224              1.000000  "
      ]
     },
     "execution_count": 7,
     "metadata": {},
     "output_type": "execute_result"
    }
   ],
   "source": [
    "df.corr()"
   ]
  },
  {
   "cell_type": "code",
   "execution_count": 8,
   "metadata": {},
   "outputs": [
    {
     "data": {
      "text/plain": [
       "<matplotlib.axes._subplots.AxesSubplot at 0x287180363c8>"
      ]
     },
     "execution_count": 8,
     "metadata": {},
     "output_type": "execute_result"
    },
    {
     "data": {
      "image/png": "[encoded data removed]",
      "text/plain": [
       "<Figure size 1728x1728 with 2 Axes>"
      ]
     },
     "metadata": {
      "needs_background": "light"
     },
     "output_type": "display_data"
    }
   ],
   "source": [
    "# Plot Corelation\n",
    "plt.figure(figsize=(24,24))\n",
    "sns.heatmap(df.corr(),cmap='rainbow',annot=True)"
   ]
  },
  {
   "cell_type": "markdown",
   "metadata": {},
   "source": [
    "### The Corr() gives correlation between the Numerical columns only, So we need to encode the non-numeric columns"
   ]
  },
  {
   "cell_type": "code",
   "execution_count": 9,
   "metadata": {},
   "outputs": [],
   "source": [
    "from sklearn.preprocessing import LabelEncoder\n",
    "\n",
    "le = LabelEncoder()\n",
    "df.Attrition = le.fit_transform(df.Attrition)"
   ]
  },
  {
   "cell_type": "code",
   "execution_count": 10,
   "metadata": {},
   "outputs": [
    {
     "data": {
      "text/html": [
       "<div>\n",
       "<style scoped>\n",
       "    .dataframe tbody tr th:only-of-type {\n",
       "        vertical-align: middle;\n",
       "    }\n",
       "\n",
       "    .dataframe tbody tr th {\n",
       "        vertical-align: top;\n",
       "    }\n",
       "\n",
       "    .dataframe thead th {\n",
       "        text-align: right;\n",
       "    }\n",
       "</style>\n",
       "<table border=\"1\" class=\"dataframe\">\n",
       "  <thead>\n",
       "    <tr style=\"text-align: right;\">\n",
       "      <th></th>\n",
       "      <th>Age</th>\n",
       "      <th>Attrition</th>\n",
       "      <th>BusinessTravel</th>\n",
       "      <th>Department</th>\n",
       "      <th>DistanceFromHome</th>\n",
       "      <th>Education</th>\n",
       "      <th>EducationField</th>\n",
       "      <th>EmployeeCount</th>\n",
       "      <th>EmployeeID</th>\n",
       "      <th>Gender</th>\n",
       "      <th>...</th>\n",
       "      <th>NumCompaniesWorked</th>\n",
       "      <th>Over18</th>\n",
       "      <th>PercentSalaryHike</th>\n",
       "      <th>StandardHours</th>\n",
       "      <th>StockOptionLevel</th>\n",
       "      <th>TotalWorkingYears</th>\n",
       "      <th>TrainingTimesLastYear</th>\n",
       "      <th>YearsAtCompany</th>\n",
       "      <th>YearsSinceLastPromotion</th>\n",
       "      <th>YearsWithCurrManager</th>\n",
       "    </tr>\n",
       "  </thead>\n",
       "  <tbody>\n",
       "    <tr>\n",
       "      <th>0</th>\n",
       "      <td>51</td>\n",
       "      <td>0</td>\n",
       "      <td>Travel_Rarely</td>\n",
       "      <td>Sales</td>\n",
       "      <td>6</td>\n",
       "      <td>2</td>\n",
       "      <td>Life Sciences</td>\n",
       "      <td>1</td>\n",
       "      <td>1</td>\n",
       "      <td>Female</td>\n",
       "      <td>...</td>\n",
       "      <td>1.0</td>\n",
       "      <td>Y</td>\n",
       "      <td>11</td>\n",
       "      <td>8</td>\n",
       "      <td>0</td>\n",
       "      <td>1.0</td>\n",
       "      <td>6</td>\n",
       "      <td>1</td>\n",
       "      <td>0</td>\n",
       "      <td>0</td>\n",
       "    </tr>\n",
       "    <tr>\n",
       "      <th>1</th>\n",
       "      <td>31</td>\n",
       "      <td>1</td>\n",
       "      <td>Travel_Frequently</td>\n",
       "      <td>Research &amp; Development</td>\n",
       "      <td>10</td>\n",
       "      <td>1</td>\n",
       "      <td>Life Sciences</td>\n",
       "      <td>1</td>\n",
       "      <td>2</td>\n",
       "      <td>Female</td>\n",
       "      <td>...</td>\n",
       "      <td>0.0</td>\n",
       "      <td>Y</td>\n",
       "      <td>23</td>\n",
       "      <td>8</td>\n",
       "      <td>1</td>\n",
       "      <td>6.0</td>\n",
       "      <td>3</td>\n",
       "      <td>5</td>\n",
       "      <td>1</td>\n",
       "      <td>4</td>\n",
       "    </tr>\n",
       "    <tr>\n",
       "      <th>2</th>\n",
       "      <td>32</td>\n",
       "      <td>0</td>\n",
       "      <td>Travel_Frequently</td>\n",
       "      <td>Research &amp; Development</td>\n",
       "      <td>17</td>\n",
       "      <td>4</td>\n",
       "      <td>Other</td>\n",
       "      <td>1</td>\n",
       "      <td>3</td>\n",
       "      <td>Male</td>\n",
       "      <td>...</td>\n",
       "      <td>1.0</td>\n",
       "      <td>Y</td>\n",
       "      <td>15</td>\n",
       "      <td>8</td>\n",
       "      <td>3</td>\n",
       "      <td>5.0</td>\n",
       "      <td>2</td>\n",
       "      <td>5</td>\n",
       "      <td>0</td>\n",
       "      <td>3</td>\n",
       "    </tr>\n",
       "    <tr>\n",
       "      <th>3</th>\n",
       "      <td>38</td>\n",
       "      <td>0</td>\n",
       "      <td>Non-Travel</td>\n",
       "      <td>Research &amp; Development</td>\n",
       "      <td>2</td>\n",
       "      <td>5</td>\n",
       "      <td>Life Sciences</td>\n",
       "      <td>1</td>\n",
       "      <td>4</td>\n",
       "      <td>Male</td>\n",
       "      <td>...</td>\n",
       "      <td>3.0</td>\n",
       "      <td>Y</td>\n",
       "      <td>11</td>\n",
       "      <td>8</td>\n",
       "      <td>3</td>\n",
       "      <td>13.0</td>\n",
       "      <td>5</td>\n",
       "      <td>8</td>\n",
       "      <td>7</td>\n",
       "      <td>5</td>\n",
       "    </tr>\n",
       "    <tr>\n",
       "      <th>4</th>\n",
       "      <td>32</td>\n",
       "      <td>0</td>\n",
       "      <td>Travel_Rarely</td>\n",
       "      <td>Research &amp; Development</td>\n",
       "      <td>10</td>\n",
       "      <td>1</td>\n",
       "      <td>Medical</td>\n",
       "      <td>1</td>\n",
       "      <td>5</td>\n",
       "      <td>Male</td>\n",
       "      <td>...</td>\n",
       "      <td>4.0</td>\n",
       "      <td>Y</td>\n",
       "      <td>12</td>\n",
       "      <td>8</td>\n",
       "      <td>2</td>\n",
       "      <td>9.0</td>\n",
       "      <td>2</td>\n",
       "      <td>6</td>\n",
       "      <td>0</td>\n",
       "      <td>4</td>\n",
       "    </tr>\n",
       "  </tbody>\n",
       "</table>\n",
       "<p>5 rows × 24 columns</p>\n",
       "</div>"
      ],
      "text/plain": [
       "   Age  Attrition     BusinessTravel              Department  \\\n",
       "0   51          0      Travel_Rarely                   Sales   \n",
       "1   31          1  Travel_Frequently  Research & Development   \n",
       "2   32          0  Travel_Frequently  Research & Development   \n",
       "3   38          0         Non-Travel  Research & Development   \n",
       "4   32          0      Travel_Rarely  Research & Development   \n",
       "\n",
       "   DistanceFromHome  Education EducationField  EmployeeCount  EmployeeID  \\\n",
       "0                 6          2  Life Sciences              1           1   \n",
       "1                10          1  Life Sciences              1           2   \n",
       "2                17          4          Other              1           3   \n",
       "3                 2          5  Life Sciences              1           4   \n",
       "4                10          1        Medical              1           5   \n",
       "\n",
       "   Gender  ...  NumCompaniesWorked Over18 PercentSalaryHike  StandardHours  \\\n",
       "0  Female  ...                 1.0      Y                11              8   \n",
       "1  Female  ...                 0.0      Y                23              8   \n",
       "2    Male  ...                 1.0      Y                15              8   \n",
       "3    Male  ...                 3.0      Y                11              8   \n",
       "4    Male  ...                 4.0      Y                12              8   \n",
       "\n",
       "   StockOptionLevel TotalWorkingYears  TrainingTimesLastYear  YearsAtCompany  \\\n",
       "0                 0               1.0                      6               1   \n",
       "1                 1               6.0                      3               5   \n",
       "2                 3               5.0                      2               5   \n",
       "3                 3              13.0                      5               8   \n",
       "4                 2               9.0                      2               6   \n",
       "\n",
       "   YearsSinceLastPromotion  YearsWithCurrManager  \n",
       "0                        0                     0  \n",
       "1                        1                     4  \n",
       "2                        0                     3  \n",
       "3                        7                     5  \n",
       "4                        0                     4  \n",
       "\n",
       "[5 rows x 24 columns]"
      ]
     },
     "execution_count": 10,
     "metadata": {},
     "output_type": "execute_result"
    }
   ],
   "source": [
    "# Encoded Attrition Column\n",
    "df.head()"
   ]
  },
  {
   "cell_type": "code",
   "execution_count": 11,
   "metadata": {},
   "outputs": [],
   "source": [
    "# Encoding BusinessTravel\n",
    "le = LabelEncoder()\n",
    "df.BusinessTravel = le.fit_transform(df.BusinessTravel)"
   ]
  },
  {
   "cell_type": "code",
   "execution_count": 12,
   "metadata": {},
   "outputs": [
    {
     "data": {
      "text/html": [
       "<div>\n",
       "<style scoped>\n",
       "    .dataframe tbody tr th:only-of-type {\n",
       "        vertical-align: middle;\n",
       "    }\n",
       "\n",
       "    .dataframe tbody tr th {\n",
       "        vertical-align: top;\n",
       "    }\n",
       "\n",
       "    .dataframe thead th {\n",
       "        text-align: right;\n",
       "    }\n",
       "</style>\n",
       "<table border=\"1\" class=\"dataframe\">\n",
       "  <thead>\n",
       "    <tr style=\"text-align: right;\">\n",
       "      <th></th>\n",
       "      <th>Age</th>\n",
       "      <th>Attrition</th>\n",
       "      <th>BusinessTravel</th>\n",
       "      <th>Department</th>\n",
       "      <th>DistanceFromHome</th>\n",
       "      <th>Education</th>\n",
       "      <th>EducationField</th>\n",
       "      <th>EmployeeCount</th>\n",
       "      <th>EmployeeID</th>\n",
       "      <th>Gender</th>\n",
       "      <th>...</th>\n",
       "      <th>NumCompaniesWorked</th>\n",
       "      <th>Over18</th>\n",
       "      <th>PercentSalaryHike</th>\n",
       "      <th>StandardHours</th>\n",
       "      <th>StockOptionLevel</th>\n",
       "      <th>TotalWorkingYears</th>\n",
       "      <th>TrainingTimesLastYear</th>\n",
       "      <th>YearsAtCompany</th>\n",
       "      <th>YearsSinceLastPromotion</th>\n",
       "      <th>YearsWithCurrManager</th>\n",
       "    </tr>\n",
       "  </thead>\n",
       "  <tbody>\n",
       "    <tr>\n",
       "      <th>0</th>\n",
       "      <td>51</td>\n",
       "      <td>0</td>\n",
       "      <td>2</td>\n",
       "      <td>2</td>\n",
       "      <td>6</td>\n",
       "      <td>2</td>\n",
       "      <td>Life Sciences</td>\n",
       "      <td>1</td>\n",
       "      <td>1</td>\n",
       "      <td>Female</td>\n",
       "      <td>...</td>\n",
       "      <td>1.0</td>\n",
       "      <td>Y</td>\n",
       "      <td>11</td>\n",
       "      <td>8</td>\n",
       "      <td>0</td>\n",
       "      <td>1.0</td>\n",
       "      <td>6</td>\n",
       "      <td>1</td>\n",
       "      <td>0</td>\n",
       "      <td>0</td>\n",
       "    </tr>\n",
       "    <tr>\n",
       "      <th>1</th>\n",
       "      <td>31</td>\n",
       "      <td>1</td>\n",
       "      <td>1</td>\n",
       "      <td>1</td>\n",
       "      <td>10</td>\n",
       "      <td>1</td>\n",
       "      <td>Life Sciences</td>\n",
       "      <td>1</td>\n",
       "      <td>2</td>\n",
       "      <td>Female</td>\n",
       "      <td>...</td>\n",
       "      <td>0.0</td>\n",
       "      <td>Y</td>\n",
       "      <td>23</td>\n",
       "      <td>8</td>\n",
       "      <td>1</td>\n",
       "      <td>6.0</td>\n",
       "      <td>3</td>\n",
       "      <td>5</td>\n",
       "      <td>1</td>\n",
       "      <td>4</td>\n",
       "    </tr>\n",
       "    <tr>\n",
       "      <th>2</th>\n",
       "      <td>32</td>\n",
       "      <td>0</td>\n",
       "      <td>1</td>\n",
       "      <td>1</td>\n",
       "      <td>17</td>\n",
       "      <td>4</td>\n",
       "      <td>Other</td>\n",
       "      <td>1</td>\n",
       "      <td>3</td>\n",
       "      <td>Male</td>\n",
       "      <td>...</td>\n",
       "      <td>1.0</td>\n",
       "      <td>Y</td>\n",
       "      <td>15</td>\n",
       "      <td>8</td>\n",
       "      <td>3</td>\n",
       "      <td>5.0</td>\n",
       "      <td>2</td>\n",
       "      <td>5</td>\n",
       "      <td>0</td>\n",
       "      <td>3</td>\n",
       "    </tr>\n",
       "    <tr>\n",
       "      <th>3</th>\n",
       "      <td>38</td>\n",
       "      <td>0</td>\n",
       "      <td>0</td>\n",
       "      <td>1</td>\n",
       "      <td>2</td>\n",
       "      <td>5</td>\n",
       "      <td>Life Sciences</td>\n",
       "      <td>1</td>\n",
       "      <td>4</td>\n",
       "      <td>Male</td>\n",
       "      <td>...</td>\n",
       "      <td>3.0</td>\n",
       "      <td>Y</td>\n",
       "      <td>11</td>\n",
       "      <td>8</td>\n",
       "      <td>3</td>\n",
       "      <td>13.0</td>\n",
       "      <td>5</td>\n",
       "      <td>8</td>\n",
       "      <td>7</td>\n",
       "      <td>5</td>\n",
       "    </tr>\n",
       "    <tr>\n",
       "      <th>4</th>\n",
       "      <td>32</td>\n",
       "      <td>0</td>\n",
       "      <td>2</td>\n",
       "      <td>1</td>\n",
       "      <td>10</td>\n",
       "      <td>1</td>\n",
       "      <td>Medical</td>\n",
       "      <td>1</td>\n",
       "      <td>5</td>\n",
       "      <td>Male</td>\n",
       "      <td>...</td>\n",
       "      <td>4.0</td>\n",
       "      <td>Y</td>\n",
       "      <td>12</td>\n",
       "      <td>8</td>\n",
       "      <td>2</td>\n",
       "      <td>9.0</td>\n",
       "      <td>2</td>\n",
       "      <td>6</td>\n",
       "      <td>0</td>\n",
       "      <td>4</td>\n",
       "    </tr>\n",
       "  </tbody>\n",
       "</table>\n",
       "<p>5 rows × 24 columns</p>\n",
       "</div>"
      ],
      "text/plain": [
       "   Age  Attrition  BusinessTravel  Department  DistanceFromHome  Education  \\\n",
       "0   51          0               2           2                 6          2   \n",
       "1   31          1               1           1                10          1   \n",
       "2   32          0               1           1                17          4   \n",
       "3   38          0               0           1                 2          5   \n",
       "4   32          0               2           1                10          1   \n",
       "\n",
       "  EducationField  EmployeeCount  EmployeeID  Gender  ...  NumCompaniesWorked  \\\n",
       "0  Life Sciences              1           1  Female  ...                 1.0   \n",
       "1  Life Sciences              1           2  Female  ...                 0.0   \n",
       "2          Other              1           3    Male  ...                 1.0   \n",
       "3  Life Sciences              1           4    Male  ...                 3.0   \n",
       "4        Medical              1           5    Male  ...                 4.0   \n",
       "\n",
       "  Over18 PercentSalaryHike  StandardHours  StockOptionLevel TotalWorkingYears  \\\n",
       "0      Y                11              8                 0               1.0   \n",
       "1      Y                23              8                 1               6.0   \n",
       "2      Y                15              8                 3               5.0   \n",
       "3      Y                11              8                 3              13.0   \n",
       "4      Y                12              8                 2               9.0   \n",
       "\n",
       "   TrainingTimesLastYear  YearsAtCompany  YearsSinceLastPromotion  \\\n",
       "0                      6               1                        0   \n",
       "1                      3               5                        1   \n",
       "2                      2               5                        0   \n",
       "3                      5               8                        7   \n",
       "4                      2               6                        0   \n",
       "\n",
       "   YearsWithCurrManager  \n",
       "0                     0  \n",
       "1                     4  \n",
       "2                     3  \n",
       "3                     5  \n",
       "4                     4  \n",
       "\n",
       "[5 rows x 24 columns]"
      ]
     },
     "execution_count": 12,
     "metadata": {},
     "output_type": "execute_result"
    }
   ],
   "source": [
    "# Encoding Department\n",
    "le = LabelEncoder()\n",
    "df.Department = le.fit_transform(df.Department)\n",
    "df.head()"
   ]
  },
  {
   "cell_type": "code",
   "execution_count": 13,
   "metadata": {},
   "outputs": [],
   "source": [
    "# Encoding EducationField\n",
    "le = LabelEncoder()\n",
    "df.EducationField = le.fit_transform(df.EducationField)"
   ]
  },
  {
   "cell_type": "code",
   "execution_count": 14,
   "metadata": {},
   "outputs": [],
   "source": [
    "# Encoding Gender\n",
    "le = LabelEncoder()\n",
    "df.Gender = le.fit_transform(df.Gender)"
   ]
  },
  {
   "cell_type": "code",
   "execution_count": 15,
   "metadata": {},
   "outputs": [],
   "source": [
    "# Encoding JobRole\n",
    "le = LabelEncoder()\n",
    "df.JobRole = le.fit_transform(df.JobRole)"
   ]
  },
  {
   "cell_type": "code",
   "execution_count": 16,
   "metadata": {},
   "outputs": [],
   "source": [
    "# Encoding MaritalStatus\n",
    "le = LabelEncoder()\n",
    "df.MaritalStatus = le.fit_transform(df.MaritalStatus)\n",
    "s=[]\n",
    "r=[]"
   ]
  },
  {
   "cell_type": "code",
   "execution_count": 17,
   "metadata": {},
   "outputs": [],
   "source": [
    "from scipy.stats import pearsonr"
   ]
  },
  {
   "cell_type": "code",
   "execution_count": 18,
   "metadata": {},
   "outputs": [],
   "source": [
    "def findCorrelation(x,y):\n",
    "    stats,p = pearsonr(x,y)\n",
    "    stats = round(stats,2)\n",
    "    if stats==0.0:\n",
    "        rel = \"No Correlation\"\n",
    "    elif stats>0:\n",
    "        if stats<0.3:\n",
    "            rel = \"A weak positive relationship\"\n",
    "        elif stats < 0.7:\n",
    "            rel = \"A moderate positive relationship\"\n",
    "        else:\n",
    "            rel = \"A Strong positive relationship\"\n",
    "    else:\n",
    "        if stats>-0.3:\n",
    "            rel = \"A weak Negative relationship\"\n",
    "        elif stats >-0.7:\n",
    "            rel = \"A moderate Negative relationship\"\n",
    "        else:\n",
    "            rel = \"A Strong Negative relationship\"\n",
    "    return stats,rel"
   ]
  },
  {
   "cell_type": "markdown",
   "metadata": {},
   "source": [
    "# Attrition and age"
   ]
  },
  {
   "cell_type": "code",
   "execution_count": 19,
   "metadata": {
    "scrolled": true
   },
   "outputs": [
    {
     "name": "stdout",
     "output_type": "stream",
     "text": [
      "Corr(Attrition,Age) = -0.16\n",
      "therefore there is A weak Negative relationship\n"
     ]
    }
   ],
   "source": [
    "stats,rel = findCorrelation(df.Attrition,df.Age)\n",
    "print(f\"Corr(Attrition,Age) = {stats}\")\n",
    "print(f\"therefore there is {rel}\")\n",
    "s.append(stats)\n",
    "r.append(rel)"
   ]
  },
  {
   "cell_type": "markdown",
   "metadata": {},
   "source": [
    "## There is Weak negative Correlation Between Attrition and Age\n",
    "\n",
    "ie. Age increases then Attrition rate decreases"
   ]
  },
  {
   "cell_type": "markdown",
   "metadata": {},
   "source": [
    "# Attrition and Bussiness Travel"
   ]
  },
  {
   "cell_type": "code",
   "execution_count": 20,
   "metadata": {},
   "outputs": [
    {
     "name": "stdout",
     "output_type": "stream",
     "text": [
      "Corr(Attrition,BussinessTravel) = 0.0\n",
      "therefore there is No Correlation\n"
     ]
    }
   ],
   "source": [
    "stats,rel = findCorrelation(df.Attrition,df.BusinessTravel)\n",
    "print(f\"Corr(Attrition,BussinessTravel) = {stats}\")\n",
    "print(f\"therefore there is {rel}\")\n",
    "s.append(stats)\n",
    "r.append(rel)"
   ]
  },
  {
   "cell_type": "markdown",
   "metadata": {},
   "source": [
    "# Attrition and Department"
   ]
  },
  {
   "cell_type": "code",
   "execution_count": 21,
   "metadata": {},
   "outputs": [
    {
     "name": "stdout",
     "output_type": "stream",
     "text": [
      "Corr(Attrition,Department) = -0.05\n",
      "therefore there is A weak Negative relationship\n"
     ]
    }
   ],
   "source": [
    "stats,rel = findCorrelation(df.Attrition,df.Department)\n",
    "print(f\"Corr(Attrition,Department) = {stats}\")\n",
    "print(f\"therefore there is {rel}\")\n",
    "s.append(stats)\n",
    "r.append(rel)"
   ]
  },
  {
   "cell_type": "markdown",
   "metadata": {},
   "source": [
    "# Attrition and Distance From Home"
   ]
  },
  {
   "cell_type": "code",
   "execution_count": 22,
   "metadata": {},
   "outputs": [
    {
     "name": "stdout",
     "output_type": "stream",
     "text": [
      "Corr(Attrition,DistanceFromHome) = -0.01\n",
      "therefore there is A weak Negative relationship\n"
     ]
    }
   ],
   "source": [
    "stats,rel = findCorrelation(df.Attrition,df.DistanceFromHome)\n",
    "print(f\"Corr(Attrition,DistanceFromHome) = {stats}\")\n",
    "print(f\"therefore there is {rel}\")\n",
    "s.append(stats)\n",
    "r.append(rel)"
   ]
  },
  {
   "cell_type": "markdown",
   "metadata": {},
   "source": [
    "# Attrition and Education"
   ]
  },
  {
   "cell_type": "code",
   "execution_count": 23,
   "metadata": {},
   "outputs": [
    {
     "name": "stdout",
     "output_type": "stream",
     "text": [
      "Corr(Attrition,Education) = -0.02\n",
      "therefore there is A weak Negative relationship\n"
     ]
    }
   ],
   "source": [
    "stats,rel = findCorrelation(df.Attrition,df.Education)\n",
    "print(f\"Corr(Attrition,Education) = {stats}\")\n",
    "print(f\"therefore there is {rel}\")\n",
    "s.append(stats)\n",
    "r.append(rel)"
   ]
  },
  {
   "cell_type": "markdown",
   "metadata": {},
   "source": [
    "# Attrition and Education Field"
   ]
  },
  {
   "cell_type": "code",
   "execution_count": 24,
   "metadata": {},
   "outputs": [
    {
     "name": "stdout",
     "output_type": "stream",
     "text": [
      "Corr(Attrition,EducationField) = -0.06\n",
      "therefore there is A weak Negative relationship\n"
     ]
    }
   ],
   "source": [
    "stats,rel = findCorrelation(df.Attrition,df.EducationField)\n",
    "print(f\"Corr(Attrition,EducationField) = {stats}\")\n",
    "print(f\"therefore there is {rel}\")\n",
    "s.append(stats)\n",
    "r.append(rel)"
   ]
  },
  {
   "cell_type": "code",
   "execution_count": null,
   "metadata": {},
   "outputs": [],
   "source": []
  },
  {
   "cell_type": "markdown",
   "metadata": {},
   "source": [
    "# Attrition and Gender"
   ]
  },
  {
   "cell_type": "code",
   "execution_count": 25,
   "metadata": {},
   "outputs": [
    {
     "name": "stdout",
     "output_type": "stream",
     "text": [
      "Corr(Attrition,Gender) = 0.02\n",
      "therefore there is A weak positive relationship\n"
     ]
    }
   ],
   "source": [
    "stats,rel = findCorrelation(df.Attrition,df.Gender)\n",
    "print(f\"Corr(Attrition,Gender) = {stats}\")\n",
    "print(f\"therefore there is {rel}\")\n",
    "s.append(stats)\n",
    "r.append(rel)"
   ]
  },
  {
   "cell_type": "markdown",
   "metadata": {},
   "source": [
    "# Attrition and JobLevel"
   ]
  },
  {
   "cell_type": "code",
   "execution_count": 26,
   "metadata": {},
   "outputs": [
    {
     "name": "stdout",
     "output_type": "stream",
     "text": [
      "Corr(Attrition,JobLevel) = -0.01\n",
      "therefore there is A weak Negative relationship\n"
     ]
    }
   ],
   "source": [
    "stats,rel = findCorrelation(df.Attrition,df.JobLevel)\n",
    "print(f\"Corr(Attrition,JobLevel) = {stats}\")\n",
    "print(f\"therefore there is {rel}\")\n",
    "s.append(stats)\n",
    "r.append(rel)"
   ]
  },
  {
   "cell_type": "markdown",
   "metadata": {},
   "source": [
    "# Attrition and JobRole"
   ]
  },
  {
   "cell_type": "code",
   "execution_count": 27,
   "metadata": {
    "scrolled": true
   },
   "outputs": [
    {
     "name": "stdout",
     "output_type": "stream",
     "text": [
      "Corr(Attrition,JobRole) = 0.03\n",
      "therefore there is A weak positive relationship\n"
     ]
    }
   ],
   "source": [
    "stats,rel = findCorrelation(df.Attrition,df.JobRole)\n",
    "print(f\"Corr(Attrition,JobRole) = {stats}\")\n",
    "print(f\"therefore there is {rel}\")\n",
    "s.append(stats)\n",
    "r.append(rel)"
   ]
  },
  {
   "cell_type": "markdown",
   "metadata": {},
   "source": [
    "# Attrition and MaritalStatus"
   ]
  },
  {
   "cell_type": "code",
   "execution_count": 28,
   "metadata": {
    "scrolled": true
   },
   "outputs": [
    {
     "name": "stdout",
     "output_type": "stream",
     "text": [
      "Corr(Attrition,MaritalStatus) = 0.16\n",
      "therefore there is A weak positive relationship\n"
     ]
    }
   ],
   "source": [
    "stats,rel = findCorrelation(df.Attrition,df.MaritalStatus)\n",
    "print(f\"Corr(Attrition,MaritalStatus) = {stats}\")\n",
    "print(f\"therefore there is {rel}\")\n",
    "s.append(stats)\n",
    "r.append(rel)"
   ]
  },
  {
   "cell_type": "markdown",
   "metadata": {},
   "source": [
    "# Attrition and MonthlyIncome"
   ]
  },
  {
   "cell_type": "code",
   "execution_count": 29,
   "metadata": {},
   "outputs": [
    {
     "name": "stdout",
     "output_type": "stream",
     "text": [
      "Corr(Attrition,MonthlyIncome) = -0.03\n",
      "therefore there is A weak Negative relationship\n"
     ]
    }
   ],
   "source": [
    "stats,rel = findCorrelation(df.Attrition,df.MonthlyIncome)\n",
    "print(f\"Corr(Attrition,MonthlyIncome) = {stats}\")\n",
    "print(f\"therefore there is {rel}\")\n",
    "s.append(stats)\n",
    "r.append(rel)"
   ]
  },
  {
   "cell_type": "markdown",
   "metadata": {},
   "source": [
    "# Attrition and NumCompaniesWorked"
   ]
  },
  {
   "cell_type": "code",
   "execution_count": 30,
   "metadata": {},
   "outputs": [
    {
     "name": "stdout",
     "output_type": "stream",
     "text": [
      "Corr(Attrition,NumCompaniesWorked) = 0.04\n",
      "therefore there is A weak positive relationship\n"
     ]
    }
   ],
   "source": [
    "stats,rel = findCorrelation(df.Attrition,df.NumCompaniesWorked)\n",
    "print(f\"Corr(Attrition,NumCompaniesWorked) = {stats}\")\n",
    "print(f\"therefore there is {rel}\")\n",
    "s.append(stats)\n",
    "r.append(rel)"
   ]
  },
  {
   "cell_type": "markdown",
   "metadata": {},
   "source": [
    "# Attrition and PercentSalaryHike"
   ]
  },
  {
   "cell_type": "code",
   "execution_count": 31,
   "metadata": {},
   "outputs": [
    {
     "name": "stdout",
     "output_type": "stream",
     "text": [
      "Corr(Attrition,PercentSalaryHike) = 0.03\n",
      "therefore there is A weak positive relationship\n"
     ]
    }
   ],
   "source": [
    "stats,rel = findCorrelation(df.Attrition,df.PercentSalaryHike)\n",
    "print(f\"Corr(Attrition,PercentSalaryHike) = {stats}\")\n",
    "print(f\"therefore there is {rel}\")\n",
    "s.append(stats)\n",
    "r.append(rel)"
   ]
  },
  {
   "cell_type": "markdown",
   "metadata": {},
   "source": [
    "# Attrition and TotalWorkingYears"
   ]
  },
  {
   "cell_type": "code",
   "execution_count": 32,
   "metadata": {},
   "outputs": [
    {
     "name": "stdout",
     "output_type": "stream",
     "text": [
      "Corr(Attrition,TotalWorkingYears) = -0.17\n",
      "therefore there is A weak Negative relationship\n"
     ]
    }
   ],
   "source": [
    "stats,rel = findCorrelation(df.Attrition,df.TotalWorkingYears)\n",
    "print(f\"Corr(Attrition,TotalWorkingYears) = {stats}\")\n",
    "print(f\"therefore there is {rel}\")\n",
    "s.append(stats)\n",
    "r.append(rel)"
   ]
  },
  {
   "cell_type": "markdown",
   "metadata": {},
   "source": [
    "# Attrition and TrainingTimesLastYear"
   ]
  },
  {
   "cell_type": "code",
   "execution_count": 33,
   "metadata": {},
   "outputs": [
    {
     "name": "stdout",
     "output_type": "stream",
     "text": [
      "Corr(Attrition,TrainingTimesLastYear) = -0.05\n",
      "therefore there is A weak Negative relationship\n"
     ]
    }
   ],
   "source": [
    "stats,rel = findCorrelation(df.Attrition,df.TrainingTimesLastYear)\n",
    "print(f\"Corr(Attrition,TrainingTimesLastYear) = {stats}\")\n",
    "print(f\"therefore there is {rel}\")\n",
    "s.append(stats)\n",
    "r.append(rel)"
   ]
  },
  {
   "cell_type": "code",
   "execution_count": null,
   "metadata": {},
   "outputs": [],
   "source": []
  },
  {
   "cell_type": "markdown",
   "metadata": {},
   "source": [
    "# Attrition and YearsAtCompany"
   ]
  },
  {
   "cell_type": "code",
   "execution_count": 34,
   "metadata": {},
   "outputs": [
    {
     "name": "stdout",
     "output_type": "stream",
     "text": [
      "Corr(Attrition,YearsAtCompany) = -0.13\n",
      "therefore there is A weak Negative relationship\n"
     ]
    }
   ],
   "source": [
    "stats,rel = findCorrelation(df.Attrition,df.YearsAtCompany)\n",
    "print(f\"Corr(Attrition,YearsAtCompany) = {stats}\")\n",
    "print(f\"therefore there is {rel}\")\n",
    "s.append(stats)\n",
    "r.append(rel)"
   ]
  },
  {
   "cell_type": "code",
   "execution_count": null,
   "metadata": {},
   "outputs": [],
   "source": []
  },
  {
   "cell_type": "markdown",
   "metadata": {},
   "source": [
    "# Attrition and YearsSinceLastPromotion"
   ]
  },
  {
   "cell_type": "code",
   "execution_count": 35,
   "metadata": {},
   "outputs": [
    {
     "name": "stdout",
     "output_type": "stream",
     "text": [
      "Corr(Attrition,YearsSinceLastPromotion) = -0.03\n",
      "therefore there is A weak Negative relationship\n"
     ]
    }
   ],
   "source": [
    "stats,rel = findCorrelation(df.Attrition,df.YearsSinceLastPromotion)\n",
    "print(f\"Corr(Attrition,YearsSinceLastPromotion) = {stats}\")\n",
    "print(f\"therefore there is {rel}\")\n",
    "s.append(stats)\n",
    "r.append(rel)"
   ]
  },
  {
   "cell_type": "markdown",
   "metadata": {},
   "source": [
    "# Attrition and YearsWithCurrManager"
   ]
  },
  {
   "cell_type": "code",
   "execution_count": 36,
   "metadata": {},
   "outputs": [
    {
     "name": "stdout",
     "output_type": "stream",
     "text": [
      "Corr(Attrition,YearsWithCurrManager) = -0.16\n",
      "therefore there is A weak Negative relationship\n"
     ]
    }
   ],
   "source": [
    "stats,rel = findCorrelation(df.Attrition,df.YearsWithCurrManager)\n",
    "print(f\"Corr(Attrition,YearsWithCurrManager) = {stats}\")\n",
    "print(f\"therefore there is {rel}\")\n",
    "s.append(stats)\n",
    "r.append(rel)"
   ]
  },
  {
   "cell_type": "markdown",
   "metadata": {},
   "source": [
    "# Geting All Details of Correlation Between Attrition and Other Columns into single Dataframe"
   ]
  },
  {
   "cell_type": "code",
   "execution_count": 37,
   "metadata": {},
   "outputs": [],
   "source": [
    "cols= [\"Age\",\"BussinessTravel\",\"Department\",\"DistanceFromHome\",\"Education\",\"EducationField\",\"Gender\",\"JobLevel\",\"JobRole\",\"MaritalStatus\",\"MonthlyIncome\",\"NumCompaniesWorked\",\"PercentSalaryHike\",\"TotalWorkingYears\",\"TrainingTimesLastYear\",\"YearsAtCompany\",\"YearsSinceLastPromotion\",\"YearsWithCurrManager\"]\n",
    "df_corr = pd.DataFrame([s,r],index=[\"Stats\",\"Relation\"],columns=cols)"
   ]
  },
  {
   "cell_type": "code",
   "execution_count": 38,
   "metadata": {},
   "outputs": [
    {
     "data": {
      "text/html": [
       "<div>\n",
       "<style scoped>\n",
       "    .dataframe tbody tr th:only-of-type {\n",
       "        vertical-align: middle;\n",
       "    }\n",
       "\n",
       "    .dataframe tbody tr th {\n",
       "        vertical-align: top;\n",
       "    }\n",
       "\n",
       "    .dataframe thead th {\n",
       "        text-align: right;\n",
       "    }\n",
       "</style>\n",
       "<table border=\"1\" class=\"dataframe\">\n",
       "  <thead>\n",
       "    <tr style=\"text-align: right;\">\n",
       "      <th></th>\n",
       "      <th>Age</th>\n",
       "      <th>BussinessTravel</th>\n",
       "      <th>Department</th>\n",
       "      <th>DistanceFromHome</th>\n",
       "      <th>Education</th>\n",
       "      <th>EducationField</th>\n",
       "      <th>Gender</th>\n",
       "      <th>JobLevel</th>\n",
       "      <th>JobRole</th>\n",
       "      <th>MaritalStatus</th>\n",
       "      <th>MonthlyIncome</th>\n",
       "      <th>NumCompaniesWorked</th>\n",
       "      <th>PercentSalaryHike</th>\n",
       "      <th>TotalWorkingYears</th>\n",
       "      <th>TrainingTimesLastYear</th>\n",
       "      <th>YearsAtCompany</th>\n",
       "      <th>YearsSinceLastPromotion</th>\n",
       "      <th>YearsWithCurrManager</th>\n",
       "    </tr>\n",
       "  </thead>\n",
       "  <tbody>\n",
       "    <tr>\n",
       "      <th>Stats</th>\n",
       "      <td>-0.16</td>\n",
       "      <td>0</td>\n",
       "      <td>-0.05</td>\n",
       "      <td>-0.01</td>\n",
       "      <td>-0.02</td>\n",
       "      <td>-0.06</td>\n",
       "      <td>0.02</td>\n",
       "      <td>-0.01</td>\n",
       "      <td>0.03</td>\n",
       "      <td>0.16</td>\n",
       "      <td>-0.03</td>\n",
       "      <td>0.04</td>\n",
       "      <td>0.03</td>\n",
       "      <td>-0.17</td>\n",
       "      <td>-0.05</td>\n",
       "      <td>-0.13</td>\n",
       "      <td>-0.03</td>\n",
       "      <td>-0.16</td>\n",
       "    </tr>\n",
       "    <tr>\n",
       "      <th>Relation</th>\n",
       "      <td>A weak Negative relationship</td>\n",
       "      <td>No Correlation</td>\n",
       "      <td>A weak Negative relationship</td>\n",
       "      <td>A weak Negative relationship</td>\n",
       "      <td>A weak Negative relationship</td>\n",
       "      <td>A weak Negative relationship</td>\n",
       "      <td>A weak positive relationship</td>\n",
       "      <td>A weak Negative relationship</td>\n",
       "      <td>A weak positive relationship</td>\n",
       "      <td>A weak positive relationship</td>\n",
       "      <td>A weak Negative relationship</td>\n",
       "      <td>A weak positive relationship</td>\n",
       "      <td>A weak positive relationship</td>\n",
       "      <td>A weak Negative relationship</td>\n",
       "      <td>A weak Negative relationship</td>\n",
       "      <td>A weak Negative relationship</td>\n",
       "      <td>A weak Negative relationship</td>\n",
       "      <td>A weak Negative relationship</td>\n",
       "    </tr>\n",
       "  </tbody>\n",
       "</table>\n",
       "</div>"
      ],
      "text/plain": [
       "                                   Age BussinessTravel  \\\n",
       "Stats                            -0.16               0   \n",
       "Relation  A weak Negative relationship  No Correlation   \n",
       "\n",
       "                            Department              DistanceFromHome  \\\n",
       "Stats                            -0.05                         -0.01   \n",
       "Relation  A weak Negative relationship  A weak Negative relationship   \n",
       "\n",
       "                             Education                EducationField  \\\n",
       "Stats                            -0.02                         -0.06   \n",
       "Relation  A weak Negative relationship  A weak Negative relationship   \n",
       "\n",
       "                                Gender                      JobLevel  \\\n",
       "Stats                             0.02                         -0.01   \n",
       "Relation  A weak positive relationship  A weak Negative relationship   \n",
       "\n",
       "                               JobRole                 MaritalStatus  \\\n",
       "Stats                             0.03                          0.16   \n",
       "Relation  A weak positive relationship  A weak positive relationship   \n",
       "\n",
       "                         MonthlyIncome            NumCompaniesWorked  \\\n",
       "Stats                            -0.03                          0.04   \n",
       "Relation  A weak Negative relationship  A weak positive relationship   \n",
       "\n",
       "                     PercentSalaryHike             TotalWorkingYears  \\\n",
       "Stats                             0.03                         -0.17   \n",
       "Relation  A weak positive relationship  A weak Negative relationship   \n",
       "\n",
       "                 TrainingTimesLastYear                YearsAtCompany  \\\n",
       "Stats                            -0.05                         -0.13   \n",
       "Relation  A weak Negative relationship  A weak Negative relationship   \n",
       "\n",
       "               YearsSinceLastPromotion          YearsWithCurrManager  \n",
       "Stats                            -0.03                         -0.16  \n",
       "Relation  A weak Negative relationship  A weak Negative relationship  "
      ]
     },
     "execution_count": 38,
     "metadata": {},
     "output_type": "execute_result"
    }
   ],
   "source": [
    "df_corr.head(18)"
   ]
  },
  {
   "cell_type": "markdown",
   "metadata": {},
   "source": [
    "## Above Table shows the Coef. of Correlation value and type of relation between Attrition and Other Columns"
   ]
  },
  {
   "cell_type": "code",
   "execution_count": 40,
   "metadata": {},
   "outputs": [],
   "source": [
    "df_corr.to_excel(\"Correlation2.xlsx\")"
   ]
  }
 ],
 "metadata": {
  "kernelspec": {
   "display_name": "Python 3",
   "language": "python",
   "name": "python3"
  },
  "language_info": {
   "codemirror_mode": {
    "name": "ipython",
    "version": 3
   },
   "file_extension": ".py",
   "mimetype": "text/x-python",
   "name": "python",
   "nbconvert_exporter": "python",
   "pygments_lexer": "ipython3",
   "version": "3.7.6"
  }
 },
 "nbformat": 4,
 "nbformat_minor": 4
}
