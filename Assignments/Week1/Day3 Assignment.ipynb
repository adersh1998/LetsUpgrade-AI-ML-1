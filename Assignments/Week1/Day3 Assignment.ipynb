{
 "cells": [
  {
   "cell_type": "markdown",
   "metadata": {},
   "source": [
    "# Question1"
   ]
  },
  {
   "cell_type": "code",
   "execution_count": 1,
   "metadata": {},
   "outputs": [
    {
     "name": "stdout",
     "output_type": "stream",
     "text": [
      "(1+5j) - (3+7j) = (-2-2j)\n"
     ]
    }
   ],
   "source": [
    "# Subtraction of 2 complex numbers\n",
    "\n",
    "a = 1+5j\n",
    "b= 3+7j\n",
    "\n",
    "print(a,\"-\",b,\"=\",a-b)"
   ]
  },
  {
   "cell_type": "markdown",
   "metadata": {},
   "source": [
    "# Question2"
   ]
  },
  {
   "cell_type": "code",
   "execution_count": 5,
   "metadata": {},
   "outputs": [
    {
     "name": "stdout",
     "output_type": "stream",
     "text": [
      "8.0\n"
     ]
    }
   ],
   "source": [
    "# Fourth root of a number = (number)^1/4\n",
    "\n",
    "number = 4096\n",
    "\n",
    "fourth_root = (number)**(1/4)\n",
    "print(fourth_root)"
   ]
  },
  {
   "cell_type": "markdown",
   "metadata": {},
   "source": [
    "# Question3"
   ]
  },
  {
   "cell_type": "code",
   "execution_count": 8,
   "metadata": {},
   "outputs": [
    {
     "name": "stdout",
     "output_type": "stream",
     "text": [
      "Before Swaping : a = 10 b = 20\n",
      "After Swaping : a = 20 b = 10\n"
     ]
    }
   ],
   "source": [
    "# Swaping 2 numbers with the help of temp variable\n",
    "\n",
    "a = 10 \n",
    "b = 20\n",
    "print(\"Before Swaping : a =\",a,\"b =\",b)\n",
    "\n",
    "#Swaping\n",
    "temp = a\n",
    "a = b\n",
    "b = temp\n",
    "\n",
    "print(\"After Swaping : a =\",a,\"b =\",b)"
   ]
  },
  {
   "cell_type": "markdown",
   "metadata": {},
   "source": [
    "# Question4"
   ]
  },
  {
   "cell_type": "code",
   "execution_count": 9,
   "metadata": {},
   "outputs": [
    {
     "name": "stdout",
     "output_type": "stream",
     "text": [
      "Before Swaping : a = 10 b = 20\n",
      "After Swaping : a = 20 b = 10\n"
     ]
    }
   ],
   "source": [
    "# Swaping 2 numbers without the help of temp variable\n",
    "\n",
    "a= 10\n",
    "b=20 \n",
    "print(\"Before Swaping : a =\",a,\"b =\",b)\n",
    "\n",
    "#Swaping\n",
    "a,b = b,a\n",
    "\n",
    "print(\"After Swaping : a =\",a,\"b =\",b)"
   ]
  },
  {
   "cell_type": "markdown",
   "metadata": {},
   "source": [
    "# Question5"
   ]
  },
  {
   "cell_type": "code",
   "execution_count": 12,
   "metadata": {},
   "outputs": [
    {
     "name": "stdout",
     "output_type": "stream",
     "text": [
      "Farenhiet : 42 F\n",
      "Celsious : 5.555555555555555 C\n",
      "Kelvin : 278.7055555555555 K\n"
     ]
    }
   ],
   "source": [
    "# Converting Farenhiet to Kelvin and Celsius\n",
    "\n",
    "f = 42\n",
    "\n",
    "#Farenheit to celsious : C = (F − 32) × 5/9\n",
    "c = (f-32)*(5/9)\n",
    "\n",
    "#Celsious to Kelvin : K = C + 273.15\n",
    "k = c + 273.15\n",
    "\n",
    "print(\"Farenhiet :\",f,\"F\")\n",
    "print(\"Celsious :\",c,\"C\")\n",
    "print(\"Kelvin :\",k,\"K\")"
   ]
  },
  {
   "cell_type": "markdown",
   "metadata": {},
   "source": [
    "# Question6"
   ]
  },
  {
   "cell_type": "code",
   "execution_count": 28,
   "metadata": {},
   "outputs": [
    {
     "name": "stdout",
     "output_type": "stream",
     "text": [
      "\n",
      " Harshal is a  <class 'str'>\n",
      "\n",
      " 10 is a <class 'int'>\n",
      "\n",
      " 20.2 is a <class 'float'>\n",
      "\n",
      " (4+2j) is a <class 'complex'>\n",
      "\n",
      " [1, 2, 3] is a <class 'list'>\n",
      "\n",
      " (1, 2, 3) is a <class 'tuple'>\n",
      "\n",
      " {1, 2, 3} is a <class 'set'>\n",
      "\n",
      " {1: 'One', 2: 'Two'} is a <class 'dict'>\n"
     ]
    }
   ],
   "source": [
    "# Demonstrate all the available Datatypes in python\n",
    "\n",
    "# Strings\n",
    "s = \"Harshal\"\n",
    "print(\"\\n\",s,\"is a \",type(s))\n",
    "\n",
    "# integers\n",
    "i = 10\n",
    "print(\"\\n\",i,\"is a\",type(i))\n",
    "\n",
    "#Float\n",
    "f = 20.2\n",
    "print(\"\\n\",f,\"is a\",type(f))\n",
    "\n",
    "#Complex\n",
    "c = 4+2j\n",
    "print(\"\\n\",c,\"is a\",type(c))\n",
    "\n",
    "#list\n",
    "l = [1,2,3]\n",
    "print(\"\\n\",l,\"is a\",type(l))\n",
    "\n",
    "# Tuple\n",
    "t = (1,2,3)\n",
    "print(\"\\n\",t,\"is a\",type(t))\n",
    "\n",
    "# Set\n",
    "set = {1,2,3}\n",
    "print(\"\\n\",set,\"is a\",type(set))\n",
    "\n",
    "# Dictionary\n",
    "d = {1:\"One\",2:\"Two\"}\n",
    "print(\"\\n\",d,\"is a\",type(d))"
   ]
  },
  {
   "cell_type": "markdown",
   "metadata": {},
   "source": [
    "# Question7"
   ]
  },
  {
   "cell_type": "markdown",
   "metadata": {},
   "source": [
    "How to upload a project/assignment in github\n",
    "\n",
    "1. Create project/assignment folder in your local machine\n",
    "\n",
    "1. Load the github url and Create a profile(if you dont have one, create one by signing up with your existing gmail account)\n",
    "\n",
    "2. Click on New button\n",
    "\n",
    "3. Name the repository as LetsUpgrade AI-ML\n",
    "\n",
    "4. Upload your project/assignment folder by drag-drop option\n",
    "\n",
    "5. CLick on commit changes\n",
    "\n",
    "6. Open the LetsUpgrade project/assignment submission form(upgrade team will upload the drive link)\n",
    "\n",
    "7. fill the email, and other required fields\n",
    "\n",
    "8. Copy paste the github url where you uploaded the project/assignment folder in your github\n",
    "\n",
    "9. Click on submit."
   ]
  }
 ],
 "metadata": {
  "kernelspec": {
   "display_name": "Python 3",
   "language": "python",
   "name": "python3"
  },
  "language_info": {
   "codemirror_mode": {
    "name": "ipython",
    "version": 3
   },
   "file_extension": ".py",
   "mimetype": "text/x-python",
   "name": "python",
   "nbconvert_exporter": "python",
   "pygments_lexer": "ipython3",
   "version": "3.7.6"
  }
 },
 "nbformat": 4,
 "nbformat_minor": 4
}
