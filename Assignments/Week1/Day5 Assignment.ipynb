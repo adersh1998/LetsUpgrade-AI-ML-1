{
 "cells": [
  {
   "cell_type": "markdown",
   "metadata": {},
   "source": [
    "# Question1"
   ]
  },
  {
   "cell_type": "code",
   "execution_count": 4,
   "metadata": {},
   "outputs": [
    {
     "name": "stdout",
     "output_type": "stream",
     "text": [
      "1\n",
      "3\n",
      "5\n",
      "7\n",
      "11\n",
      "13\n",
      "17\n",
      "19\n",
      "23\n",
      "29\n",
      "31\n",
      "37\n",
      "41\n",
      "43\n",
      "47\n",
      "53\n",
      "59\n",
      "61\n",
      "67\n",
      "71\n"
     ]
    }
   ],
   "source": [
    "# First 20 non-even prime natural numbers\n",
    "\n",
    "cnt = 0\n",
    "i=1\n",
    "\n",
    "while cnt<20:\n",
    "    flag = True\n",
    "    for j in range(2,i):\n",
    "        if i%j==0:\n",
    "            flag = False\n",
    "            break\n",
    "    if flag:\n",
    "        if i%2!=0:\n",
    "            print(i)\n",
    "            cnt+=1\n",
    "    i+=2 # As we want only odd, we will jump from 1 to 3,then 3 to 5,7,9 and so on, (this will save time)\n",
    "        "
   ]
  },
  {
   "cell_type": "markdown",
   "metadata": {},
   "source": [
    "# Question2"
   ]
  },
  {
   "cell_type": "code",
   "execution_count": 5,
   "metadata": {},
   "outputs": [
    {
     "data": {
      "text/plain": [
       "'This is my LetsUpgrade-Assignment'"
      ]
     },
     "execution_count": 5,
     "metadata": {},
     "output_type": "execute_result"
    }
   ],
   "source": [
    "#Creating a String\n",
    "str=\"This is my LetsUpgrade-Assignment\"\n",
    "str"
   ]
  },
  {
   "cell_type": "code",
   "execution_count": 6,
   "metadata": {},
   "outputs": [
    {
     "data": {
      "text/plain": [
       "'This is my letsupgrade-assignment'"
      ]
     },
     "execution_count": 6,
     "metadata": {},
     "output_type": "execute_result"
    }
   ],
   "source": [
    "# Only first letter of sentence to be capitalized\n",
    "str.capitalize()"
   ]
  },
  {
   "cell_type": "code",
   "execution_count": 8,
   "metadata": {},
   "outputs": [
    {
     "data": {
      "text/plain": [
       "'This Is My Letsupgrade-Assignment'"
      ]
     },
     "execution_count": 8,
     "metadata": {},
     "output_type": "execute_result"
    }
   ],
   "source": [
    "# All first letters of all words to be capitalized\n",
    "str.title()"
   ]
  },
  {
   "cell_type": "code",
   "execution_count": 9,
   "metadata": {},
   "outputs": [
    {
     "data": {
      "text/plain": [
       "'tHIS IS MY lETSuPGRADE-aSSIGNMENT'"
      ]
     },
     "execution_count": 9,
     "metadata": {},
     "output_type": "execute_result"
    }
   ],
   "source": [
    "# all uppercase to lower and lower to upper\n",
    "str.swapcase()"
   ]
  },
  {
   "cell_type": "code",
   "execution_count": 12,
   "metadata": {},
   "outputs": [
    {
     "data": {
      "text/plain": [
       "'THIS IS MY LETSUPGRADE-ASSIGNMENT'"
      ]
     },
     "execution_count": 12,
     "metadata": {},
     "output_type": "execute_result"
    }
   ],
   "source": [
    "# all uppercase\n",
    "str.upper()"
   ]
  },
  {
   "cell_type": "code",
   "execution_count": 11,
   "metadata": {},
   "outputs": [
    {
     "data": {
      "text/plain": [
       "'this is my letsupgrade-assignment'"
      ]
     },
     "execution_count": 11,
     "metadata": {},
     "output_type": "execute_result"
    }
   ],
   "source": [
    "# all lowercase\n",
    "str.lower()"
   ]
  },
  {
   "cell_type": "code",
   "execution_count": 13,
   "metadata": {},
   "outputs": [
    {
     "data": {
      "text/plain": [
       "['This', 'is', 'my', 'LetsUpgrade-Assignment']"
      ]
     },
     "execution_count": 13,
     "metadata": {},
     "output_type": "execute_result"
    }
   ],
   "source": [
    "# Spliting from \" \"\n",
    "str.split()"
   ]
  },
  {
   "cell_type": "code",
   "execution_count": 14,
   "metadata": {},
   "outputs": [
    {
     "name": "stdout",
     "output_type": "stream",
     "text": [
      "True\n"
     ]
    }
   ],
   "source": [
    "# checking whether string ends with specified value\n",
    "print(str.endswith(\"ment\"))"
   ]
  },
  {
   "cell_type": "code",
   "execution_count": 15,
   "metadata": {},
   "outputs": [
    {
     "data": {
      "text/plain": [
       "2"
      ]
     },
     "execution_count": 15,
     "metadata": {},
     "output_type": "execute_result"
    }
   ],
   "source": [
    "# finding index of specified value\n",
    "str.find(\"is\")"
   ]
  },
  {
   "cell_type": "code",
   "execution_count": 20,
   "metadata": {},
   "outputs": [
    {
     "name": "stdout",
     "output_type": "stream",
     "text": [
      "True\n",
      "False\n"
     ]
    }
   ],
   "source": [
    "# finding if the string contains only alphabets and numericals\n",
    "\n",
    "print(\"HelloWorld\".isalnum()) #True\n",
    "print(\"Hello World\".isalnum()) #False because of \" \""
   ]
  },
  {
   "cell_type": "code",
   "execution_count": 24,
   "metadata": {},
   "outputs": [
    {
     "name": "stdout",
     "output_type": "stream",
     "text": [
      "True\n",
      "False\n"
     ]
    }
   ],
   "source": [
    "# finding if the string contains only alphabets\n",
    "\n",
    "print(\"HelloWorld\".isalpha()) #True\n",
    "print(\"Hello World 123-456\".isalpha()) #False because of 123"
   ]
  },
  {
   "cell_type": "code",
   "execution_count": 25,
   "metadata": {},
   "outputs": [
    {
     "data": {
      "text/plain": [
       "True"
      ]
     },
     "execution_count": 25,
     "metadata": {},
     "output_type": "execute_result"
    }
   ],
   "source": [
    "#checking whether string contains only digit\n",
    "\"123\".isdigit()"
   ]
  },
  {
   "cell_type": "code",
   "execution_count": 26,
   "metadata": {},
   "outputs": [
    {
     "data": {
      "text/plain": [
       "True"
      ]
     },
     "execution_count": 26,
     "metadata": {},
     "output_type": "execute_result"
    }
   ],
   "source": [
    "\"abc\".islower()"
   ]
  },
  {
   "cell_type": "code",
   "execution_count": 27,
   "metadata": {},
   "outputs": [
    {
     "data": {
      "text/plain": [
       "True"
      ]
     },
     "execution_count": 27,
     "metadata": {},
     "output_type": "execute_result"
    }
   ],
   "source": [
    "\"ABC\".isupper()"
   ]
  },
  {
   "cell_type": "code",
   "execution_count": 28,
   "metadata": {},
   "outputs": [
    {
     "data": {
      "text/plain": [
       "'Hello'"
      ]
     },
     "execution_count": 28,
     "metadata": {},
     "output_type": "execute_result"
    }
   ],
   "source": [
    "# Remove Whitespaces\n",
    "\"    Hello     \".strip()"
   ]
  },
  {
   "cell_type": "code",
   "execution_count": 30,
   "metadata": {},
   "outputs": [
    {
     "data": {
      "text/plain": [
       "6"
      ]
     },
     "execution_count": 30,
     "metadata": {},
     "output_type": "execute_result"
    }
   ],
   "source": [
    "\"Hello World\".index(\"World\")"
   ]
  },
  {
   "cell_type": "markdown",
   "metadata": {},
   "source": [
    "# Question3"
   ]
  },
  {
   "cell_type": "code",
   "execution_count": 1,
   "metadata": {},
   "outputs": [],
   "source": [
    "def isPalindrome(s):\n",
    "    s=s.lower()\n",
    "    if s == s[::-1]:\n",
    "        return True\n",
    "    return False\n",
    "\n",
    "def isAnagram(s1,s2):\n",
    "    s1=s1.lower()\n",
    "    s2=s2.lower()\n",
    "    if sorted(s1) == sorted(s2):\n",
    "        return True\n",
    "    return False"
   ]
  },
  {
   "cell_type": "code",
   "execution_count": 2,
   "metadata": {},
   "outputs": [],
   "source": [
    "def check_anagram_and_palindrome():\n",
    "    flag = True\n",
    "    s1 = input(\"Enter a String ==>> \")\n",
    "    if isPalindrome(s1):\n",
    "        print(s1,\"is Palindrome\")\n",
    "        flag=False\n",
    "\n",
    "    s2 = input(\"Enter 2nd String to check Anagram ==>> \")\n",
    "    if isAnagram(s1,s2):\n",
    "        print(s1,\"and\",s2,\"Are Anagram\")\n",
    "        flag=False\n",
    "\n",
    "    if flag:\n",
    "        print(\"Not Anagram and Palindrome\")"
   ]
  },
  {
   "cell_type": "code",
   "execution_count": 4,
   "metadata": {},
   "outputs": [
    {
     "name": "stdout",
     "output_type": "stream",
     "text": [
      "********** case 1 **********\n",
      "Enter a String ==>> Malayalam\n",
      "Malayalam is Palindrome\n",
      "Enter 2nd String to check Anagram ==>> lamayamal\n",
      "Malayalam and lamayamal Are Anagram\n",
      "\n",
      " ********** case 2 **********\n",
      "Enter a String ==>> Harshal\n",
      "Enter 2nd String to check Anagram ==>> XYZABC\n",
      "Not Anagram and Palindrome\n"
     ]
    }
   ],
   "source": [
    "#Case 1: Both Anagram and Palindrome\n",
    "print(\"*\"*10,\"case 1\",\"*\"*10)\n",
    "check_anagram_and_palindrome()\n",
    "\n",
    "#Case 2: none of them\n",
    "print(\"\\n\",\"*\"*10,\"case 2\",\"*\"*10)\n",
    "check_anagram_and_palindrome()"
   ]
  },
  {
   "cell_type": "markdown",
   "metadata": {},
   "source": [
    "# Question4"
   ]
  },
  {
   "cell_type": "code",
   "execution_count": 9,
   "metadata": {},
   "outputs": [
    {
     "name": "stdout",
     "output_type": "stream",
     "text": [
      "mr harshal gawdesoftwaredeveloper\n"
     ]
    }
   ],
   "source": [
    "str = \"-_-Mr. Harshal Gawde@Software_Developer-_-\"\n",
    "\n",
    "res =\"\"\n",
    "for i in str:\n",
    "    if i.isalnum() or i == \" \": #if the char is a alph. or num or \" \" only then add into our result string\n",
    "        res+=i\n",
    "        \n",
    "print(res.lower())"
   ]
  }
 ],
 "metadata": {
  "kernelspec": {
   "display_name": "Python 3",
   "language": "python",
   "name": "python3"
  },
  "language_info": {
   "codemirror_mode": {
    "name": "ipython",
    "version": 3
   },
   "file_extension": ".py",
   "mimetype": "text/x-python",
   "name": "python",
   "nbconvert_exporter": "python",
   "pygments_lexer": "ipython3",
   "version": "3.7.6"
  }
 },
 "nbformat": 4,
 "nbformat_minor": 4
}
