{
 "cells": [
  {
   "cell_type": "markdown",
   "metadata": {},
   "source": [
    "# Question1"
   ]
  },
  {
   "cell_type": "code",
   "execution_count": 8,
   "metadata": {},
   "outputs": [
    {
     "name": "stdout",
     "output_type": "stream",
     "text": [
      "Addition : (2+3j) + (4+5j) = (6+8j)\n",
      "Subtraction : (2+3j) - (4+5j) = (-2-2j)\n",
      "Multiplication : (2+3j) * (4+5j) = (-7+22j)\n",
      "Division : (2+3j) / (4+5j) = (0.5609756097560976+0.0487804878048781j)\n"
     ]
    }
   ],
   "source": [
    "# Addition, Subtraction, Multiplication, Division of Complex Numbers \n",
    "a = 2+3j\n",
    "b= 4+5j\n",
    "\n",
    "print(\"Addition :\",a,\"+\",b,\"=\",a+b)\n",
    "\n",
    "print(\"Subtraction :\",a,\"-\",b,\"=\",a-b)\n",
    "\n",
    "print(\"Multiplication :\",a,\"*\",b,\"=\",a*b)\n",
    "\n",
    "print(\"Division :\",a,\"/\",b,\"=\",a/b)"
   ]
  },
  {
   "cell_type": "markdown",
   "metadata": {},
   "source": [
    "# Question2"
   ]
  },
  {
   "cell_type": "markdown",
   "metadata": {},
   "source": [
    "# __range()__\n",
    "\n",
    "The range() function returns the sequence of numbers based on the passed parameters, ie. start,stop,step\n",
    "\n",
    "### __Syntax__ : range(start, stop, step_size)\n",
    "\n",
    "__start__ : (by_default 0) it specifies the starting value of the range\n",
    "\n",
    "__stop__ : it specifies where to stop, it is exclusive, ie. the last value is not included in range\n",
    "\n",
    "           ie. if range(0,200) , then the range will be actually between (0-199)\n",
    "            \n",
    "__step_size__ : (By default 1) it specifies by how much to increase by. ie. if (0,10,2) then it will give : [0,2,4,6,8] (ie. increse by 2)\n",
    "            "
   ]
  },
  {
   "cell_type": "code",
   "execution_count": 11,
   "metadata": {},
   "outputs": [
    {
     "name": "stdout",
     "output_type": "stream",
     "text": [
      "[0, 5, 10, 15, 20, 25]\n"
     ]
    }
   ],
   "source": [
    "# Example of range()\n",
    "\n",
    "l =[i for i in range (0,30,5)]\n",
    "print(l)"
   ]
  },
  {
   "cell_type": "markdown",
   "metadata": {},
   "source": [
    "# Question3"
   ]
  },
  {
   "cell_type": "code",
   "execution_count": 18,
   "metadata": {},
   "outputs": [
    {
     "name": "stdout",
     "output_type": "stream",
     "text": [
      "Res = 30 is > 25\n",
      "65 * 35 = 2275\n"
     ]
    }
   ],
   "source": [
    "# Subtracting two numbers and if the sub>25 then,print their multiplication else print their Division\n",
    "\n",
    "a = 65\n",
    "b= 35\n",
    "res = a-b\n",
    "\n",
    "if res>25:\n",
    "    print(\"Res =\",res,\"is > 25\")\n",
    "    print(a,\"*\",b,\"=\",a*b)\n",
    "else:\n",
    "    print(\"Res =\",res,\"is < 25\")\n",
    "    print(a,\"/\",b,\"=\",a/b)"
   ]
  },
  {
   "cell_type": "markdown",
   "metadata": {},
   "source": [
    "# Question4"
   ]
  },
  {
   "cell_type": "code",
   "execution_count": 23,
   "metadata": {},
   "outputs": [
    {
     "name": "stdout",
     "output_type": "stream",
     "text": [
      "98\n",
      "482\n",
      "1598\n",
      "3598\n",
      "2\n",
      "62\n"
     ]
    }
   ],
   "source": [
    "# for each element in list if the ele is even then print the (ele^2 - 2) \n",
    "lst = [1,10,22,40,15,60,2,8,9]\n",
    "\n",
    "for ele in lst:\n",
    "    if ele%2==0:\n",
    "        print(ele**2-2)"
   ]
  },
  {
   "cell_type": "markdown",
   "metadata": {},
   "source": [
    "# Question5"
   ]
  },
  {
   "cell_type": "code",
   "execution_count": 25,
   "metadata": {},
   "outputs": [
    {
     "name": "stdout",
     "output_type": "stream",
     "text": [
      "22\n",
      "40\n",
      "15\n",
      "60\n"
     ]
    }
   ],
   "source": [
    "# for each element in list if the (ele/2) > 7, then print that element\n",
    "lst = [1,10,22,40,15,60,2,8,9]\n",
    "\n",
    "for ele in lst:\n",
    "    if ele/2>7:\n",
    "        print(ele)"
   ]
  }
 ],
 "metadata": {
  "kernelspec": {
   "display_name": "Python 3",
   "language": "python",
   "name": "python3"
  },
  "language_info": {
   "codemirror_mode": {
    "name": "ipython",
    "version": 3
   },
   "file_extension": ".py",
   "mimetype": "text/x-python",
   "name": "python",
   "nbconvert_exporter": "python",
   "pygments_lexer": "ipython3",
   "version": "3.7.6"
  }
 },
 "nbformat": 4,
 "nbformat_minor": 4
}
